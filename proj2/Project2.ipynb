{
 "cells": [
  {
   "cell_type": "markdown",
   "id": "0d5800c0",
   "metadata": {},
   "source": [
    "# 장길진 교수님 과제 (project-2)\n",
    "## 2022325105 권덕규"
   ]
  },
  {
   "cell_type": "code",
   "execution_count": 2,
   "id": "d48c1dea",
   "metadata": {},
   "outputs": [],
   "source": [
    "import numpy as np\n",
    "import os\n",
    "import random\n",
    "import shutil\n",
    "from pydub import AudioSegment\n",
    "import os"
   ]
  },
  {
   "cell_type": "markdown",
   "id": "225b8d17",
   "metadata": {},
   "source": [
    "# 1. timit_wav 폴더 내의 train 데이터를 8(train) 대 2(validation)로 분할"
   ]
  },
  {
   "cell_type": "code",
   "execution_count": 3,
   "id": "d8aeefe5",
   "metadata": {},
   "outputs": [],
   "source": [
    "def split_folder(folder_path, split_ratio):\n",
    "    entries = os.listdir(folder_path)\n",
    "\n",
    "    #폴더 리스트 섞기\n",
    "    folder_list = []\n",
    "    for entry in entries:\n",
    "        entry_path = os.path.join(folder_path, entry)\n",
    "        if os.path.isdir(entry_path):\n",
    "            folder_list.append(entry_path)\n",
    "            \n",
    "    random.shuffle(folder_list)\n",
    "    split_index = int(len(folder_list) * split_ratio)\n",
    "\n",
    "    # 폴더 리스트 분할\n",
    "    train_folders = folder_list[:split_index]\n",
    "    val_folders = folder_list[split_index:]\n",
    "\n",
    "    return train_folders, val_folders\n",
    "\n",
    "def save_folder(folder_list, destination):\n",
    "    # 폴더 복사\n",
    "    for folder_path in folder_list:\n",
    "        folder_name = os.path.basename(folder_path)\n",
    "        destination_path = os.path.join(destination, folder_name)\n",
    "        shutil.copytree(folder_path, destination_path)"
   ]
  },
  {
   "cell_type": "code",
   "execution_count": 4,
   "id": "0e55041f",
   "metadata": {},
   "outputs": [],
   "source": [
    "# 폴더 경로\n",
    "root_folder_path = 'timit_wav/train'\n",
    "\n",
    "# 파일과 폴더를 8대2로 분할\n",
    "train_folders, test_folders = split_folder(root_folder_path, 0.8)\n",
    "\n",
    "# 저장 폴더 경로\n",
    "train_folder = 'train_dk'\n",
    "val_folder = 'val_dk'\n",
    "\n",
    "# 저장\n",
    "save_folder(train_folders, train_folder)\n",
    "save_folder(test_folders, val_folder)"
   ]
  },
  {
   "cell_type": "markdown",
   "id": "b0e16a7b",
   "metadata": {},
   "source": [
    "# 2. EPD 사용"
   ]
  },
  {
   "cell_type": "code",
   "execution_count": 11,
   "id": "e61dac29",
   "metadata": {},
   "outputs": [],
   "source": [
    "def split_audio(audio_file, start_times, end_times, output_dir, prefix, wrdphn):\n",
    "    # WAV 파일 로드\n",
    "    audio = AudioSegment.from_file(audio_file)\n",
    "    \n",
    "    if not os.path.exists(output_dir):\n",
    "        os.makedirs(output_dir)\n",
    "    \n",
    "    # 타임스탬프를 기반으로 오디오 분할\n",
    "    for i, (start, end) in enumerate(zip(start_times, end_times)):\n",
    "        segment = audio[start:end]\n",
    "        \n",
    "        output_file = os.path.join(output_dir, f\"{prefix}_{wrdphn}_{i}.wav\")\n",
    "        segment.export(output_file, format=\"wav\")"
   ]
  },
  {
   "cell_type": "code",
   "execution_count": 12,
   "id": "60fe08e0",
   "metadata": {},
   "outputs": [],
   "source": [
    "folder_path = 'train_dk'  # 대상 폴더 경로\n",
    "phn_file_list = []\n",
    "wrd_file_list = []\n",
    "wav_file_list = []\n",
    "\n",
    "for root, dirs, files in os.walk(folder_path):\n",
    "    for file_name in files:\n",
    "        if file_name.endswith('.phn'):\n",
    "            file_path = os.path.join(root, file_name)\n",
    "            phn_file_list.append(file_path)\n",
    "\n",
    "for root, dirs, files in os.walk(folder_path):\n",
    "    for file_name in files:\n",
    "        if file_name.endswith('.wrd'):\n",
    "            file_path = os.path.join(root, file_name)\n",
    "            wrd_file_list.append(file_path)\n",
    "            \n",
    "for root, dirs, files in os.walk(folder_path):\n",
    "    for file_name in files:\n",
    "        if file_name.endswith('.wav'):\n",
    "            file_path = os.path.join(root, file_name)\n",
    "            wav_file_list.append(file_path)     "
   ]
  },
  {
   "cell_type": "markdown",
   "id": "a02a8a4c",
   "metadata": {},
   "source": [
    "## phn 파일 읽어온 후 타임스탬프에 따라 split"
   ]
  },
  {
   "cell_type": "code",
   "execution_count": 13,
   "id": "aebe9ee6",
   "metadata": {},
   "outputs": [],
   "source": [
    "count = 0\n",
    "\n",
    "for file_path in phn_file_list : \n",
    "    start_number_list = []\n",
    "    end_number_list = []\n",
    "    with open(file_path, 'r') as file:\n",
    "        lines = file.readlines()\n",
    "        for line in lines:\n",
    "            numbers = line.strip().split()\n",
    "            for number in numbers:\n",
    "                try:\n",
    "                    number = int(number)\n",
    "                    if str(number).isnumeric():\n",
    "                        count += 1\n",
    "                        if count == 1 :\n",
    "                            start_number_list.append(number)\n",
    "                        elif count == 2 :\n",
    "                            count = 0\n",
    "                            end_number_list.append(number)\n",
    "                except ValueError:\n",
    "                    pass\n",
    "    \n",
    "    output_dir = os.path.dirname(file_path) + \"/phn\"\n",
    "    audio_file = os.path.splitext(file_path)[0] + \".wav\"    \n",
    "    pre_prefix = os.path.basename(file_path)\n",
    "    prefix = os.path.splitext(pre_prefix)[0]    \n",
    "    wrdphn = \"phn\"\n",
    "    split_audio(audio_file, start_number_list, end_number_list, output_dir, prefix, wrdphn)"
   ]
  },
  {
   "cell_type": "markdown",
   "id": "4dbf12af",
   "metadata": {},
   "source": [
    "## wrd 파일 읽어온 후 타임스탬프에 따라 split"
   ]
  },
  {
   "cell_type": "code",
   "execution_count": 9,
   "id": "56540f25",
   "metadata": {},
   "outputs": [],
   "source": [
    "count = 0\n",
    "\n",
    "for file_path in wrd_file_list : \n",
    "    start_number_list = []\n",
    "    end_number_list = []\n",
    "    with open(file_path, 'r') as file:\n",
    "        lines = file.readlines()\n",
    "        for line in lines:\n",
    "            numbers = line.strip().split()\n",
    "            for number in numbers:\n",
    "                try:\n",
    "                    number = int(number)## phn 파일 읽어온 후 타임스탬프에 따라 split\n",
    "                    if str(number).isnumeric():\n",
    "                        count += 1\n",
    "                        if count == 1 :\n",
    "                            start_number_list.append(number)\n",
    "                        elif count == 2 :\n",
    "                            count = 0\n",
    "                            end_number_list.append(number)\n",
    "                except ValueError:\n",
    "                    pass\n",
    "    \n",
    "    output_dir = os.path.dirname(file_path) + \"/wrd\"\n",
    "    audio_file = os.path.splitext(file_path)[0] + \".wav\"    \n",
    "    pre_prefix = os.path.basename(file_path)\n",
    "    prefix = os.path.splitext(pre_prefix)[0]    \n",
    "    wrdphn = \"wrd\"\n",
    "    split_audio(audio_file, start_number_list, end_number_list, output_dir, prefix, wrdphn)"
   ]
  },
  {
   "cell_type": "code",
   "execution_count": null,
   "id": "b182fd60",
   "metadata": {},
   "outputs": [],
   "source": []
  }
 ],
 "metadata": {
  "kernelspec": {
   "display_name": "Python 3 (ipykernel)",
   "language": "python",
   "name": "python3"
  },
  "language_info": {
   "codemirror_mode": {
    "name": "ipython",
    "version": 3
   },
   "file_extension": ".py",
   "mimetype": "text/x-python",
   "name": "python",
   "nbconvert_exporter": "python",
   "pygments_lexer": "ipython3",
   "version": "3.10.9"
  }
 },
 "nbformat": 4,
 "nbformat_minor": 5
}
